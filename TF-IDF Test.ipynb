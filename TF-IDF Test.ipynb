{
 "cells": [
  {
   "cell_type": "code",
   "execution_count": 1,
   "metadata": {
    "scrolled": true
   },
   "outputs": [
    {
     "name": "stdout",
     "output_type": "stream",
     "text": [
      "Requirement already satisfied: sklearn in /Users/qiaoyu/opt/anaconda3/lib/python3.9/site-packages (0.0.post4)\r\n"
     ]
    }
   ],
   "source": [
    "!pip install sklearn"
   ]
  },
  {
   "cell_type": "code",
   "execution_count": 4,
   "metadata": {},
   "outputs": [],
   "source": [
    "from sklearn.feature_extraction.text import TfidfVectorizer\n",
    "from sklearn.feature_extraction.text import CountVectorizer\n",
    "import pandas as pd\n",
    "pd.set_option(\"display.max_rows\", 600)\n",
    "from pathlib import Path  \n",
    "import glob"
   ]
  },
  {
   "cell_type": "code",
   "execution_count": 5,
   "metadata": {},
   "outputs": [],
   "source": [
    "directory_path = \".\""
   ]
  },
  {
   "cell_type": "code",
   "execution_count": 6,
   "metadata": {},
   "outputs": [],
   "source": [
    "text_files = sorted(glob.glob(f\"{directory_path}/*.txt\"))"
   ]
  },
  {
   "cell_type": "code",
   "execution_count": 7,
   "metadata": {
    "scrolled": true,
    "tags": [
     "output_scroll"
    ]
   },
   "outputs": [
    {
     "data": {
      "text/plain": [
       "['./week1_tokenized.txt',\n",
       " './week2_tokenized.txt',\n",
       " './week3_tokenized.txt',\n",
       " './week4_tokenized.txt',\n",
       " './week5_tokenized.txt',\n",
       " './week6_tokenized.txt',\n",
       " './week7_tokenized.txt',\n",
       " './week8_tokenized.txt']"
      ]
     },
     "execution_count": 7,
     "metadata": {},
     "output_type": "execute_result"
    }
   ],
   "source": [
    "text_files"
   ]
  },
  {
   "cell_type": "code",
   "execution_count": 8,
   "metadata": {},
   "outputs": [],
   "source": [
    "text_titles = [Path(text).stem for text in text_files]"
   ]
  },
  {
   "cell_type": "code",
   "execution_count": 9,
   "metadata": {
    "scrolled": true,
    "tags": [
     "output_scroll"
    ]
   },
   "outputs": [
    {
     "data": {
      "text/plain": [
       "['week1_tokenized',\n",
       " 'week2_tokenized',\n",
       " 'week3_tokenized',\n",
       " 'week4_tokenized',\n",
       " 'week5_tokenized',\n",
       " 'week6_tokenized',\n",
       " 'week7_tokenized',\n",
       " 'week8_tokenized']"
      ]
     },
     "execution_count": 9,
     "metadata": {},
     "output_type": "execute_result"
    }
   ],
   "source": [
    "text_titles"
   ]
  },
  {
   "cell_type": "markdown",
   "metadata": {},
   "source": [
    "## Calculate tf–idf"
   ]
  },
  {
   "cell_type": "code",
   "execution_count": 80,
   "metadata": {},
   "outputs": [],
   "source": [
    "tfidf_vectorizer = TfidfVectorizer(input='filename')"
   ]
  },
  {
   "cell_type": "markdown",
   "metadata": {},
   "source": [
    "Run TfidfVectorizer on our `text_files`"
   ]
  },
  {
   "cell_type": "code",
   "execution_count": 81,
   "metadata": {},
   "outputs": [],
   "source": [
    "tfidf_vector = tfidf_vectorizer.fit_transform(text_files)"
   ]
  },
  {
   "cell_type": "markdown",
   "metadata": {},
   "source": [
    "Make a DataFrame out of the resulting tf–idf vector, setting the \"feature names\" or words as columns and the titles as rows"
   ]
  },
  {
   "cell_type": "code",
   "execution_count": 82,
   "metadata": {},
   "outputs": [],
   "source": [
    "tfidf_df = pd.DataFrame(tfidf_vector.toarray(), index=text_titles, columns=tfidf_vectorizer.get_feature_names_out())"
   ]
  },
  {
   "cell_type": "markdown",
   "metadata": {},
   "source": [
    "Add column for document frequency aka number of times word appears in all documents"
   ]
  },
  {
   "cell_type": "code",
   "execution_count": 83,
   "metadata": {},
   "outputs": [],
   "source": [
    "tfidf_df.loc['Document Frequency'] = (tfidf_df > 0).sum()"
   ]
  },
  {
   "cell_type": "code",
   "execution_count": 90,
   "metadata": {},
   "outputs": [
    {
     "data": {
      "text/html": [
       "<div>\n",
       "<style scoped>\n",
       "    .dataframe tbody tr th:only-of-type {\n",
       "        vertical-align: middle;\n",
       "    }\n",
       "\n",
       "    .dataframe tbody tr th {\n",
       "        vertical-align: top;\n",
       "    }\n",
       "\n",
       "    .dataframe thead th {\n",
       "        text-align: right;\n",
       "    }\n",
       "</style>\n",
       "<table border=\"1\" class=\"dataframe\">\n",
       "  <thead>\n",
       "    <tr style=\"text-align: right;\">\n",
       "      <th></th>\n",
       "      <th>政府</th>\n",
       "      <th>国家</th>\n",
       "      <th>美国</th>\n",
       "      <th>香港</th>\n",
       "    </tr>\n",
       "  </thead>\n",
       "  <tbody>\n",
       "    <tr>\n",
       "      <th>Document Frequency</th>\n",
       "      <td>8.00</td>\n",
       "      <td>8.00</td>\n",
       "      <td>8.00</td>\n",
       "      <td>8.00</td>\n",
       "    </tr>\n",
       "    <tr>\n",
       "      <th>week1_tokenized</th>\n",
       "      <td>0.05</td>\n",
       "      <td>0.04</td>\n",
       "      <td>0.07</td>\n",
       "      <td>0.07</td>\n",
       "    </tr>\n",
       "    <tr>\n",
       "      <th>week2_tokenized</th>\n",
       "      <td>0.04</td>\n",
       "      <td>0.04</td>\n",
       "      <td>0.06</td>\n",
       "      <td>0.07</td>\n",
       "    </tr>\n",
       "    <tr>\n",
       "      <th>week3_tokenized</th>\n",
       "      <td>0.04</td>\n",
       "      <td>0.05</td>\n",
       "      <td>0.07</td>\n",
       "      <td>0.07</td>\n",
       "    </tr>\n",
       "    <tr>\n",
       "      <th>week4_tokenized</th>\n",
       "      <td>0.01</td>\n",
       "      <td>0.02</td>\n",
       "      <td>0.03</td>\n",
       "      <td>0.03</td>\n",
       "    </tr>\n",
       "    <tr>\n",
       "      <th>week5_tokenized</th>\n",
       "      <td>0.07</td>\n",
       "      <td>0.06</td>\n",
       "      <td>0.08</td>\n",
       "      <td>0.13</td>\n",
       "    </tr>\n",
       "    <tr>\n",
       "      <th>week6_tokenized</th>\n",
       "      <td>0.05</td>\n",
       "      <td>0.05</td>\n",
       "      <td>0.09</td>\n",
       "      <td>0.08</td>\n",
       "    </tr>\n",
       "    <tr>\n",
       "      <th>week7_tokenized</th>\n",
       "      <td>0.03</td>\n",
       "      <td>0.04</td>\n",
       "      <td>0.10</td>\n",
       "      <td>0.05</td>\n",
       "    </tr>\n",
       "    <tr>\n",
       "      <th>week8_tokenized</th>\n",
       "      <td>0.05</td>\n",
       "      <td>0.12</td>\n",
       "      <td>0.07</td>\n",
       "      <td>0.06</td>\n",
       "    </tr>\n",
       "  </tbody>\n",
       "</table>\n",
       "</div>"
      ],
      "text/plain": [
       "                      政府    国家    美国    香港\n",
       "Document Frequency  8.00  8.00  8.00  8.00\n",
       "week1_tokenized     0.05  0.04  0.07  0.07\n",
       "week2_tokenized     0.04  0.04  0.06  0.07\n",
       "week3_tokenized     0.04  0.05  0.07  0.07\n",
       "week4_tokenized     0.01  0.02  0.03  0.03\n",
       "week5_tokenized     0.07  0.06  0.08  0.13\n",
       "week6_tokenized     0.05  0.05  0.09  0.08\n",
       "week7_tokenized     0.03  0.04  0.10  0.05\n",
       "week8_tokenized     0.05  0.12  0.07  0.06"
      ]
     },
     "execution_count": 90,
     "metadata": {},
     "output_type": "execute_result"
    }
   ],
   "source": [
    "tfidf_slice = tfidf_df[['政府', '国家','美国','香港']]\n",
    "tfidf_slice.sort_index().round(decimals=2)"
   ]
  },
  {
   "cell_type": "code",
   "execution_count": 29,
   "metadata": {},
   "outputs": [
    {
     "data": {
      "text/html": [
       "<div>\n",
       "<style scoped>\n",
       "    .dataframe tbody tr th:only-of-type {\n",
       "        vertical-align: middle;\n",
       "    }\n",
       "\n",
       "    .dataframe tbody tr th {\n",
       "        vertical-align: top;\n",
       "    }\n",
       "\n",
       "    .dataframe thead th {\n",
       "        text-align: right;\n",
       "    }\n",
       "</style>\n",
       "<table border=\"1\" class=\"dataframe\">\n",
       "  <thead>\n",
       "    <tr style=\"text-align: right;\">\n",
       "      <th></th>\n",
       "      <th>level_0</th>\n",
       "      <th>level_1</th>\n",
       "      <th>0</th>\n",
       "    </tr>\n",
       "  </thead>\n",
       "  <tbody>\n",
       "    <tr>\n",
       "      <th>0</th>\n",
       "      <td>week1_tokenized</td>\n",
       "      <td>ªª</td>\n",
       "      <td>0.000000</td>\n",
       "    </tr>\n",
       "    <tr>\n",
       "      <th>1</th>\n",
       "      <td>week1_tokenized</td>\n",
       "      <td>ª½</td>\n",
       "      <td>0.000044</td>\n",
       "    </tr>\n",
       "    <tr>\n",
       "      <th>2</th>\n",
       "      <td>week1_tokenized</td>\n",
       "      <td>ªà</td>\n",
       "      <td>0.000000</td>\n",
       "    </tr>\n",
       "    <tr>\n",
       "      <th>3</th>\n",
       "      <td>week1_tokenized</td>\n",
       "      <td>ªå</td>\n",
       "      <td>0.000066</td>\n",
       "    </tr>\n",
       "    <tr>\n",
       "      <th>4</th>\n",
       "      <td>week1_tokenized</td>\n",
       "      <td>ªæ</td>\n",
       "      <td>0.000066</td>\n",
       "    </tr>\n",
       "    <tr>\n",
       "      <th>...</th>\n",
       "      <td>...</td>\n",
       "      <td>...</td>\n",
       "      <td>...</td>\n",
       "    </tr>\n",
       "    <tr>\n",
       "      <th>28233547</th>\n",
       "      <td>week8_tokenized</td>\n",
       "      <td>勇野</td>\n",
       "      <td>0.000000</td>\n",
       "    </tr>\n",
       "    <tr>\n",
       "      <th>28233548</th>\n",
       "      <td>week8_tokenized</td>\n",
       "      <td>勇闖</td>\n",
       "      <td>0.000000</td>\n",
       "    </tr>\n",
       "    <tr>\n",
       "      <th>28233549</th>\n",
       "      <td>week8_tokenized</td>\n",
       "      <td>吆原</td>\n",
       "      <td>0.000000</td>\n",
       "    </tr>\n",
       "    <tr>\n",
       "      <th>28233550</th>\n",
       "      <td>week8_tokenized</td>\n",
       "      <td>晉少</td>\n",
       "      <td>0.000000</td>\n",
       "    </tr>\n",
       "    <tr>\n",
       "      <th>28233551</th>\n",
       "      <td>week8_tokenized</td>\n",
       "      <td>貫家</td>\n",
       "      <td>0.000000</td>\n",
       "    </tr>\n",
       "  </tbody>\n",
       "</table>\n",
       "<p>28233552 rows × 3 columns</p>\n",
       "</div>"
      ],
      "text/plain": [
       "                  level_0 level_1         0\n",
       "0         week1_tokenized      ªª  0.000000\n",
       "1         week1_tokenized      ª½  0.000044\n",
       "2         week1_tokenized      ªà  0.000000\n",
       "3         week1_tokenized      ªå  0.000066\n",
       "4         week1_tokenized      ªæ  0.000066\n",
       "...                   ...     ...       ...\n",
       "28233547  week8_tokenized      勇野  0.000000\n",
       "28233548  week8_tokenized      勇闖  0.000000\n",
       "28233549  week8_tokenized      吆原  0.000000\n",
       "28233550  week8_tokenized      晉少  0.000000\n",
       "28233551  week8_tokenized      貫家  0.000000\n",
       "\n",
       "[28233552 rows x 3 columns]"
      ]
     },
     "execution_count": 29,
     "metadata": {},
     "output_type": "execute_result"
    }
   ],
   "source": [
    "tfidf_df.stack().reset_index()"
   ]
  },
  {
   "cell_type": "code",
   "execution_count": 30,
   "metadata": {},
   "outputs": [],
   "source": [
    "tfidf_df = tfidf_df.stack().reset_index()"
   ]
  },
  {
   "cell_type": "code",
   "execution_count": 31,
   "metadata": {},
   "outputs": [],
   "source": [
    "tfidf_df = tfidf_df.rename(columns={0:'tfidf', 'level_0': 'document','level_1': 'term', 'level_2': 'term'})"
   ]
  },
  {
   "cell_type": "markdown",
   "metadata": {},
   "source": [
    "To find out the top 200 words with the highest tf–idf for every story, we're going to sort by document and tfidf score and then groupby document and take the first 200 values."
   ]
  },
  {
   "cell_type": "code",
   "execution_count": 66,
   "metadata": {},
   "outputs": [],
   "source": [
    "top_tfidf = tfidf_df.sort_values(by=['document','tfidf'], ascending=[True,False]).groupby(['document']).head(50)"
   ]
  },
  {
   "cell_type": "code",
   "execution_count": 67,
   "metadata": {},
   "outputs": [
    {
     "data": {
      "text/html": [
       "<div>\n",
       "<style scoped>\n",
       "    .dataframe tbody tr th:only-of-type {\n",
       "        vertical-align: middle;\n",
       "    }\n",
       "\n",
       "    .dataframe tbody tr th {\n",
       "        vertical-align: top;\n",
       "    }\n",
       "\n",
       "    .dataframe thead th {\n",
       "        text-align: right;\n",
       "    }\n",
       "</style>\n",
       "<table border=\"1\" class=\"dataframe\">\n",
       "  <thead>\n",
       "    <tr style=\"text-align: right;\">\n",
       "      <th></th>\n",
       "      <th>document</th>\n",
       "      <th>term</th>\n",
       "      <th>tfidf</th>\n",
       "    </tr>\n",
       "  </thead>\n",
       "  <tbody>\n",
       "    <tr>\n",
       "      <th>1193410</th>\n",
       "      <td>week1_tokenized</td>\n",
       "      <td>微博</td>\n",
       "      <td>0.253599</td>\n",
       "    </tr>\n",
       "    <tr>\n",
       "      <th>664382</th>\n",
       "      <td>week1_tokenized</td>\n",
       "      <td>喜欢</td>\n",
       "      <td>0.243759</td>\n",
       "    </tr>\n",
       "    <tr>\n",
       "      <th>2296261</th>\n",
       "      <td>week1_tokenized</td>\n",
       "      <td>知道</td>\n",
       "      <td>0.212054</td>\n",
       "    </tr>\n",
       "    <tr>\n",
       "      <th>1633307</th>\n",
       "      <td>week1_tokenized</td>\n",
       "      <td>朋友</td>\n",
       "      <td>0.162581</td>\n",
       "    </tr>\n",
       "    <tr>\n",
       "      <th>289640</th>\n",
       "      <td>week1_tokenized</td>\n",
       "      <td>关注</td>\n",
       "      <td>0.161368</td>\n",
       "    </tr>\n",
       "    <tr>\n",
       "      <th>2166962</th>\n",
       "      <td>week1_tokenized</td>\n",
       "      <td>生活</td>\n",
       "      <td>0.160896</td>\n",
       "    </tr>\n",
       "    <tr>\n",
       "      <th>34493</th>\n",
       "      <td>week1_tokenized</td>\n",
       "      <td>世界</td>\n",
       "      <td>0.157142</td>\n",
       "    </tr>\n",
       "    <tr>\n",
       "      <th>3037166</th>\n",
       "      <td>week1_tokenized</td>\n",
       "      <td>轉發</td>\n",
       "      <td>0.147022</td>\n",
       "    </tr>\n",
       "    <tr>\n",
       "      <th>916969</th>\n",
       "      <td>week1_tokenized</td>\n",
       "      <td>孩子</td>\n",
       "      <td>0.140884</td>\n",
       "    </tr>\n",
       "    <tr>\n",
       "      <th>3250493</th>\n",
       "      <td>week1_tokenized</td>\n",
       "      <td>问题</td>\n",
       "      <td>0.125499</td>\n",
       "    </tr>\n",
       "  </tbody>\n",
       "</table>\n",
       "</div>"
      ],
      "text/plain": [
       "                document term     tfidf\n",
       "1193410  week1_tokenized   微博  0.253599\n",
       "664382   week1_tokenized   喜欢  0.243759\n",
       "2296261  week1_tokenized   知道  0.212054\n",
       "1633307  week1_tokenized   朋友  0.162581\n",
       "289640   week1_tokenized   关注  0.161368\n",
       "2166962  week1_tokenized   生活  0.160896\n",
       "34493    week1_tokenized   世界  0.157142\n",
       "3037166  week1_tokenized   轉發  0.147022\n",
       "916969   week1_tokenized   孩子  0.140884\n",
       "3250493  week1_tokenized   问题  0.125499"
      ]
     },
     "execution_count": 67,
     "metadata": {},
     "output_type": "execute_result"
    }
   ],
   "source": [
    "top_tfidf[:10]"
   ]
  },
  {
   "cell_type": "markdown",
   "metadata": {},
   "source": [
    "We can zoom in on particular words and particular documents."
   ]
  },
  {
   "cell_type": "code",
   "execution_count": 72,
   "metadata": {},
   "outputs": [
    {
     "data": {
      "text/html": [
       "<div>\n",
       "<style scoped>\n",
       "    .dataframe tbody tr th:only-of-type {\n",
       "        vertical-align: middle;\n",
       "    }\n",
       "\n",
       "    .dataframe tbody tr th {\n",
       "        vertical-align: top;\n",
       "    }\n",
       "\n",
       "    .dataframe thead th {\n",
       "        text-align: right;\n",
       "    }\n",
       "</style>\n",
       "<table border=\"1\" class=\"dataframe\">\n",
       "  <thead>\n",
       "    <tr style=\"text-align: right;\">\n",
       "      <th></th>\n",
       "      <th>document</th>\n",
       "      <th>term</th>\n",
       "      <th>tfidf</th>\n",
       "    </tr>\n",
       "  </thead>\n",
       "  <tbody>\n",
       "    <tr>\n",
       "      <th>15630598</th>\n",
       "      <td>week5_tokenized</td>\n",
       "      <td>政府</td>\n",
       "      <td>0.069408</td>\n",
       "    </tr>\n",
       "    <tr>\n",
       "      <th>26218180</th>\n",
       "      <td>week8_tokenized</td>\n",
       "      <td>政府</td>\n",
       "      <td>0.054138</td>\n",
       "    </tr>\n",
       "  </tbody>\n",
       "</table>\n",
       "</div>"
      ],
      "text/plain": [
       "                 document term     tfidf\n",
       "15630598  week5_tokenized   政府  0.069408\n",
       "26218180  week8_tokenized   政府  0.054138"
      ]
     },
     "execution_count": 72,
     "metadata": {},
     "output_type": "execute_result"
    }
   ],
   "source": [
    "top_tfidf[top_tfidf['term'].str.contains('政府')]"
   ]
  },
  {
   "cell_type": "code",
   "execution_count": 60,
   "metadata": {},
   "outputs": [
    {
     "data": {
      "text/html": [
       "<div>\n",
       "<style scoped>\n",
       "    .dataframe tbody tr th:only-of-type {\n",
       "        vertical-align: middle;\n",
       "    }\n",
       "\n",
       "    .dataframe tbody tr th {\n",
       "        vertical-align: top;\n",
       "    }\n",
       "\n",
       "    .dataframe thead th {\n",
       "        text-align: right;\n",
       "    }\n",
       "</style>\n",
       "<table border=\"1\" class=\"dataframe\">\n",
       "  <thead>\n",
       "    <tr style=\"text-align: right;\">\n",
       "      <th></th>\n",
       "      <th>document</th>\n",
       "      <th>term</th>\n",
       "      <th>tfidf</th>\n",
       "    </tr>\n",
       "  </thead>\n",
       "  <tbody>\n",
       "    <tr>\n",
       "      <th>705092</th>\n",
       "      <td>week1_tokenized</td>\n",
       "      <td>国家</td>\n",
       "      <td>0.041265</td>\n",
       "    </tr>\n",
       "    <tr>\n",
       "      <th>4234286</th>\n",
       "      <td>week2_tokenized</td>\n",
       "      <td>国家</td>\n",
       "      <td>0.043882</td>\n",
       "    </tr>\n",
       "    <tr>\n",
       "      <th>7763480</th>\n",
       "      <td>week3_tokenized</td>\n",
       "      <td>国家</td>\n",
       "      <td>0.053949</td>\n",
       "    </tr>\n",
       "    <tr>\n",
       "      <th>14821868</th>\n",
       "      <td>week5_tokenized</td>\n",
       "      <td>国家</td>\n",
       "      <td>0.059600</td>\n",
       "    </tr>\n",
       "    <tr>\n",
       "      <th>18351062</th>\n",
       "      <td>week6_tokenized</td>\n",
       "      <td>国家</td>\n",
       "      <td>0.053793</td>\n",
       "    </tr>\n",
       "    <tr>\n",
       "      <th>21880256</th>\n",
       "      <td>week7_tokenized</td>\n",
       "      <td>国家</td>\n",
       "      <td>0.041539</td>\n",
       "    </tr>\n",
       "    <tr>\n",
       "      <th>25409450</th>\n",
       "      <td>week8_tokenized</td>\n",
       "      <td>国家</td>\n",
       "      <td>0.122977</td>\n",
       "    </tr>\n",
       "  </tbody>\n",
       "</table>\n",
       "</div>"
      ],
      "text/plain": [
       "                 document term     tfidf\n",
       "705092    week1_tokenized   国家  0.041265\n",
       "4234286   week2_tokenized   国家  0.043882\n",
       "7763480   week3_tokenized   国家  0.053949\n",
       "14821868  week5_tokenized   国家  0.059600\n",
       "18351062  week6_tokenized   国家  0.053793\n",
       "21880256  week7_tokenized   国家  0.041539\n",
       "25409450  week8_tokenized   国家  0.122977"
      ]
     },
     "execution_count": 60,
     "metadata": {},
     "output_type": "execute_result"
    }
   ],
   "source": [
    "top_tfidf[top_tfidf['term'].str.contains('国家')]"
   ]
  },
  {
   "cell_type": "code",
   "execution_count": 77,
   "metadata": {},
   "outputs": [
    {
     "data": {
      "text/html": [
       "<div>\n",
       "<style scoped>\n",
       "    .dataframe tbody tr th:only-of-type {\n",
       "        vertical-align: middle;\n",
       "    }\n",
       "\n",
       "    .dataframe tbody tr th {\n",
       "        vertical-align: top;\n",
       "    }\n",
       "\n",
       "    .dataframe thead th {\n",
       "        text-align: right;\n",
       "    }\n",
       "</style>\n",
       "<table border=\"1\" class=\"dataframe\">\n",
       "  <thead>\n",
       "    <tr style=\"text-align: right;\">\n",
       "      <th></th>\n",
       "      <th>document</th>\n",
       "      <th>term</th>\n",
       "      <th>tfidf</th>\n",
       "    </tr>\n",
       "  </thead>\n",
       "  <tbody>\n",
       "    <tr>\n",
       "      <th>2534322</th>\n",
       "      <td>week1_tokenized</td>\n",
       "      <td>美国</td>\n",
       "      <td>0.067827</td>\n",
       "    </tr>\n",
       "    <tr>\n",
       "      <th>6063516</th>\n",
       "      <td>week2_tokenized</td>\n",
       "      <td>美国</td>\n",
       "      <td>0.062304</td>\n",
       "    </tr>\n",
       "    <tr>\n",
       "      <th>9592710</th>\n",
       "      <td>week3_tokenized</td>\n",
       "      <td>美国</td>\n",
       "      <td>0.074176</td>\n",
       "    </tr>\n",
       "    <tr>\n",
       "      <th>16651098</th>\n",
       "      <td>week5_tokenized</td>\n",
       "      <td>美国</td>\n",
       "      <td>0.077860</td>\n",
       "    </tr>\n",
       "    <tr>\n",
       "      <th>20180292</th>\n",
       "      <td>week6_tokenized</td>\n",
       "      <td>美国</td>\n",
       "      <td>0.091771</td>\n",
       "    </tr>\n",
       "    <tr>\n",
       "      <th>23709486</th>\n",
       "      <td>week7_tokenized</td>\n",
       "      <td>美国</td>\n",
       "      <td>0.096565</td>\n",
       "    </tr>\n",
       "    <tr>\n",
       "      <th>27238680</th>\n",
       "      <td>week8_tokenized</td>\n",
       "      <td>美国</td>\n",
       "      <td>0.073824</td>\n",
       "    </tr>\n",
       "  </tbody>\n",
       "</table>\n",
       "</div>"
      ],
      "text/plain": [
       "                 document term     tfidf\n",
       "2534322   week1_tokenized   美国  0.067827\n",
       "6063516   week2_tokenized   美国  0.062304\n",
       "9592710   week3_tokenized   美国  0.074176\n",
       "16651098  week5_tokenized   美国  0.077860\n",
       "20180292  week6_tokenized   美国  0.091771\n",
       "23709486  week7_tokenized   美国  0.096565\n",
       "27238680  week8_tokenized   美国  0.073824"
      ]
     },
     "execution_count": 77,
     "metadata": {},
     "output_type": "execute_result"
    }
   ],
   "source": [
    "top_tfidf[top_tfidf['term'].str.contains('美国')]"
   ]
  },
  {
   "cell_type": "code",
   "execution_count": 74,
   "metadata": {},
   "outputs": [
    {
     "data": {
      "text/html": [
       "<div>\n",
       "<style scoped>\n",
       "    .dataframe tbody tr th:only-of-type {\n",
       "        vertical-align: middle;\n",
       "    }\n",
       "\n",
       "    .dataframe tbody tr th {\n",
       "        vertical-align: top;\n",
       "    }\n",
       "\n",
       "    .dataframe thead th {\n",
       "        text-align: right;\n",
       "    }\n",
       "</style>\n",
       "<table border=\"1\" class=\"dataframe\">\n",
       "  <thead>\n",
       "    <tr style=\"text-align: right;\">\n",
       "      <th></th>\n",
       "      <th>document</th>\n",
       "      <th>term</th>\n",
       "      <th>tfidf</th>\n",
       "    </tr>\n",
       "  </thead>\n",
       "  <tbody>\n",
       "    <tr>\n",
       "      <th>7607096</th>\n",
       "      <td>week3_tokenized</td>\n",
       "      <td>台湾</td>\n",
       "      <td>0.054601</td>\n",
       "    </tr>\n",
       "  </tbody>\n",
       "</table>\n",
       "</div>"
      ],
      "text/plain": [
       "                document term     tfidf\n",
       "7607096  week3_tokenized   台湾  0.054601"
      ]
     },
     "execution_count": 74,
     "metadata": {},
     "output_type": "execute_result"
    }
   ],
   "source": [
    "top_tfidf[top_tfidf['term'].str.contains('台湾')]"
   ]
  },
  {
   "cell_type": "code",
   "execution_count": 75,
   "metadata": {},
   "outputs": [
    {
     "data": {
      "text/html": [
       "<div>\n",
       "<style scoped>\n",
       "    .dataframe tbody tr th:only-of-type {\n",
       "        vertical-align: middle;\n",
       "    }\n",
       "\n",
       "    .dataframe tbody tr th {\n",
       "        vertical-align: top;\n",
       "    }\n",
       "\n",
       "    .dataframe thead th {\n",
       "        text-align: right;\n",
       "    }\n",
       "</style>\n",
       "<table border=\"1\" class=\"dataframe\">\n",
       "  <thead>\n",
       "    <tr style=\"text-align: right;\">\n",
       "      <th></th>\n",
       "      <th>document</th>\n",
       "      <th>term</th>\n",
       "      <th>tfidf</th>\n",
       "    </tr>\n",
       "  </thead>\n",
       "  <tbody>\n",
       "    <tr>\n",
       "      <th>3405417</th>\n",
       "      <td>week1_tokenized</td>\n",
       "      <td>香港</td>\n",
       "      <td>0.068351</td>\n",
       "    </tr>\n",
       "    <tr>\n",
       "      <th>6934611</th>\n",
       "      <td>week2_tokenized</td>\n",
       "      <td>香港</td>\n",
       "      <td>0.072253</td>\n",
       "    </tr>\n",
       "    <tr>\n",
       "      <th>10463805</th>\n",
       "      <td>week3_tokenized</td>\n",
       "      <td>香港</td>\n",
       "      <td>0.074415</td>\n",
       "    </tr>\n",
       "    <tr>\n",
       "      <th>17522193</th>\n",
       "      <td>week5_tokenized</td>\n",
       "      <td>香港</td>\n",
       "      <td>0.127512</td>\n",
       "    </tr>\n",
       "    <tr>\n",
       "      <th>21051387</th>\n",
       "      <td>week6_tokenized</td>\n",
       "      <td>香港</td>\n",
       "      <td>0.079572</td>\n",
       "    </tr>\n",
       "    <tr>\n",
       "      <th>24580581</th>\n",
       "      <td>week7_tokenized</td>\n",
       "      <td>香港</td>\n",
       "      <td>0.050750</td>\n",
       "    </tr>\n",
       "    <tr>\n",
       "      <th>28109775</th>\n",
       "      <td>week8_tokenized</td>\n",
       "      <td>香港</td>\n",
       "      <td>0.064576</td>\n",
       "    </tr>\n",
       "  </tbody>\n",
       "</table>\n",
       "</div>"
      ],
      "text/plain": [
       "                 document term     tfidf\n",
       "3405417   week1_tokenized   香港  0.068351\n",
       "6934611   week2_tokenized   香港  0.072253\n",
       "10463805  week3_tokenized   香港  0.074415\n",
       "17522193  week5_tokenized   香港  0.127512\n",
       "21051387  week6_tokenized   香港  0.079572\n",
       "24580581  week7_tokenized   香港  0.050750\n",
       "28109775  week8_tokenized   香港  0.064576"
      ]
     },
     "execution_count": 75,
     "metadata": {},
     "output_type": "execute_result"
    }
   ],
   "source": [
    "top_tfidf[top_tfidf['term'].str.contains('香港')]"
   ]
  },
  {
   "cell_type": "markdown",
   "metadata": {},
   "source": [
    "## Visualize TF-IDF"
   ]
  },
  {
   "cell_type": "code",
   "execution_count": null,
   "metadata": {},
   "outputs": [],
   "source": [
    "!pip install altair"
   ]
  },
  {
   "cell_type": "markdown",
   "metadata": {},
   "source": [
    "Let's make a heatmap that shows the highest TF-IDF scoring words for each president, and let's put a red dot next to two terms of interest: \"war\" and \"peace\":\n",
    "\n",
    "The code below was contributed by [Eric Monson](https://github.com/emonson). Thanks, Eric!"
   ]
  },
  {
   "cell_type": "code",
   "execution_count": 70,
   "metadata": {
    "scrolled": true,
    "tags": [
     "hide-input"
    ]
   },
   "outputs": [
    {
     "data": {
      "text/html": [
       "\n",
       "<div id=\"altair-viz-b306bd7886e440e6a15ccf137323b598\"></div>\n",
       "<script type=\"text/javascript\">\n",
       "  var VEGA_DEBUG = (typeof VEGA_DEBUG == \"undefined\") ? {} : VEGA_DEBUG;\n",
       "  (function(spec, embedOpt){\n",
       "    let outputDiv = document.currentScript.previousElementSibling;\n",
       "    if (outputDiv.id !== \"altair-viz-b306bd7886e440e6a15ccf137323b598\") {\n",
       "      outputDiv = document.getElementById(\"altair-viz-b306bd7886e440e6a15ccf137323b598\");\n",
       "    }\n",
       "    const paths = {\n",
       "      \"vega\": \"https://cdn.jsdelivr.net/npm//vega@5?noext\",\n",
       "      \"vega-lib\": \"https://cdn.jsdelivr.net/npm//vega-lib?noext\",\n",
       "      \"vega-lite\": \"https://cdn.jsdelivr.net/npm//vega-lite@4.17.0?noext\",\n",
       "      \"vega-embed\": \"https://cdn.jsdelivr.net/npm//vega-embed@6?noext\",\n",
       "    };\n",
       "\n",
       "    function maybeLoadScript(lib, version) {\n",
       "      var key = `${lib.replace(\"-\", \"\")}_version`;\n",
       "      return (VEGA_DEBUG[key] == version) ?\n",
       "        Promise.resolve(paths[lib]) :\n",
       "        new Promise(function(resolve, reject) {\n",
       "          var s = document.createElement('script');\n",
       "          document.getElementsByTagName(\"head\")[0].appendChild(s);\n",
       "          s.async = true;\n",
       "          s.onload = () => {\n",
       "            VEGA_DEBUG[key] = version;\n",
       "            return resolve(paths[lib]);\n",
       "          };\n",
       "          s.onerror = () => reject(`Error loading script: ${paths[lib]}`);\n",
       "          s.src = paths[lib];\n",
       "        });\n",
       "    }\n",
       "\n",
       "    function showError(err) {\n",
       "      outputDiv.innerHTML = `<div class=\"error\" style=\"color:red;\">${err}</div>`;\n",
       "      throw err;\n",
       "    }\n",
       "\n",
       "    function displayChart(vegaEmbed) {\n",
       "      vegaEmbed(outputDiv, spec, embedOpt)\n",
       "        .catch(err => showError(`Javascript Error: ${err.message}<br>This usually means there's a typo in your chart specification. See the javascript console for the full traceback.`));\n",
       "    }\n",
       "\n",
       "    if(typeof define === \"function\" && define.amd) {\n",
       "      requirejs.config({paths});\n",
       "      require([\"vega-embed\"], displayChart, err => showError(`Error loading script: ${err.message}`));\n",
       "    } else {\n",
       "      maybeLoadScript(\"vega\", \"5\")\n",
       "        .then(() => maybeLoadScript(\"vega-lite\", \"4.17.0\"))\n",
       "        .then(() => maybeLoadScript(\"vega-embed\", \"6\"))\n",
       "        .catch(showError)\n",
       "        .then(() => displayChart(vegaEmbed));\n",
       "    }\n",
       "  })({\"config\": {\"view\": {\"continuousWidth\": 400, \"continuousHeight\": 300}}, \"layer\": [{\"mark\": \"rect\", \"encoding\": {\"color\": {\"field\": \"tfidf\", \"type\": \"quantitative\"}, \"x\": {\"field\": \"rank\", \"type\": \"ordinal\"}, \"y\": {\"field\": \"document\", \"type\": \"nominal\"}}, \"transform\": [{\"window\": [{\"op\": \"rank\", \"field\": \"\", \"as\": \"rank\"}], \"groupby\": [\"document\"], \"sort\": [{\"field\": \"tfidf\", \"order\": \"descending\"}]}]}, {\"mark\": {\"type\": \"circle\", \"size\": 100}, \"encoding\": {\"color\": {\"condition\": {\"value\": \"red\", \"test\": {\"field\": \"term\", \"oneOf\": [\"\\u56fd\\u5bb6\", \"\\u653f\\u5e9c\", \"\\u7f8e\\u56fd\", \"\\u53f0\\u6e7e\", \"\\u9999\\u6e2f\"]}}, \"value\": \"#FFFFFF00\"}, \"x\": {\"field\": \"rank\", \"type\": \"ordinal\"}, \"y\": {\"field\": \"document\", \"type\": \"nominal\"}}, \"transform\": [{\"window\": [{\"op\": \"rank\", \"field\": \"\", \"as\": \"rank\"}], \"groupby\": [\"document\"], \"sort\": [{\"field\": \"tfidf\", \"order\": \"descending\"}]}]}, {\"mark\": {\"type\": \"text\", \"baseline\": \"middle\"}, \"encoding\": {\"color\": {\"condition\": {\"value\": \"white\", \"test\": \"(datum.tfidf >= 0.23)\"}, \"value\": \"black\"}, \"text\": {\"field\": \"term\", \"type\": \"nominal\"}, \"x\": {\"field\": \"rank\", \"type\": \"ordinal\"}, \"y\": {\"field\": \"document\", \"type\": \"nominal\"}}, \"transform\": [{\"window\": [{\"op\": \"rank\", \"field\": \"\", \"as\": \"rank\"}], \"groupby\": [\"document\"], \"sort\": [{\"field\": \"tfidf\", \"order\": \"descending\"}]}]}], \"data\": {\"name\": \"data-a3f0f4189b66119a60fb61456bd4e01e\"}, \"width\": 2000, \"$schema\": \"https://vega.github.io/schema/vega-lite/v4.17.0.json\", \"datasets\": {\"data-a3f0f4189b66119a60fb61456bd4e01e\": [{\"document\": \"week1_tokenized\", \"term\": \"\\u5fae\\u535a\", \"tfidf\": 0.2536350660574135}, {\"document\": \"week1_tokenized\", \"term\": \"\\u559c\\u6b22\", \"tfidf\": 0.2437879672898048}, {\"document\": \"week1_tokenized\", \"term\": \"\\u77e5\\u9053\", \"tfidf\": 0.2121524388407241}, {\"document\": \"week1_tokenized\", \"term\": \"\\u670b\\u53cb\", \"tfidf\": 0.16263411040002115}, {\"document\": \"week1_tokenized\", \"term\": \"\\u5173\\u6ce8\", \"tfidf\": 0.16139405062170004}, {\"document\": \"week1_tokenized\", \"term\": \"\\u751f\\u6d3b\", \"tfidf\": 0.16089913767590047}, {\"document\": \"week1_tokenized\", \"term\": \"\\u4e16\\u754c\", \"tfidf\": 0.1572146416255107}, {\"document\": \"week1_tokenized\", \"term\": \"\\u8f49\\u767c\", \"tfidf\": 0.14703089812507808}, {\"document\": \"week1_tokenized\", \"term\": \"\\u5b69\\u5b50\", \"tfidf\": 0.14096296115533652}, {\"document\": \"week1_tokenized\", \"term\": \"\\u95ee\\u9898\", \"tfidf\": 0.12555579738123426}, {\"document\": \"week1_tokenized\", \"term\": \"\\u5e78\\u798f\", \"tfidf\": 0.12460523859584899}, {\"document\": \"week1_tokenized\", \"term\": \"\\u5feb\\u4e50\", \"tfidf\": 0.1209234796773276}, {\"document\": \"week1_tokenized\", \"term\": \"\\u652f\\u6301\", \"tfidf\": 0.11639275522474736}, {\"document\": \"week1_tokenized\", \"term\": \"\\u5f00\\u59cb\", \"tfidf\": 0.11536957494513146}, {\"document\": \"week1_tokenized\", \"term\": \"\\u5de5\\u4f5c\", \"tfidf\": 0.10925052017328767}, {\"document\": \"week1_tokenized\", \"term\": \"\\u5065\\u5eb7\", \"tfidf\": 0.09318538484729345}, {\"document\": \"week1_tokenized\", \"term\": \"\\u6d3b\\u52a8\", \"tfidf\": 0.09267217782223813}, {\"document\": \"week1_tokenized\", \"term\": \"\\u8f6c\\u53d1\", \"tfidf\": 0.08900090798623345}, {\"document\": \"week1_tokenized\", \"term\": \"\\u53d1\\u73b0\", \"tfidf\": 0.08663039058543856}, {\"document\": \"week1_tokenized\", \"term\": \"\\u4e1c\\u897f\", \"tfidf\": 0.08385656428981064}, {\"document\": \"week1_tokenized\", \"term\": \"\\u611f\\u89c9\", \"tfidf\": 0.08183484548852164}, {\"document\": \"week1_tokenized\", \"term\": \"\\u63a8\\u8350\", \"tfidf\": 0.07993004158414768}, {\"document\": \"week1_tokenized\", \"term\": \"\\u7231\\u60c5\", \"tfidf\": 0.07688093358676201}, {\"document\": \"week1_tokenized\", \"term\": \"\\u660e\\u5929\", \"tfidf\": 0.07673544578091157}, {\"document\": \"week1_tokenized\", \"term\": \"\\u6c34\\u74f6\", \"tfidf\": 0.07046195923276617}, {\"document\": \"week1_tokenized\", \"term\": \"\\u6839\\u7b4b\", \"tfidf\": 0.07005424546677312}, {\"document\": \"week1_tokenized\", \"term\": \"\\u52aa\\u529b\", \"tfidf\": 0.06894245898079038}, {\"document\": \"week1_tokenized\", \"term\": \"\\u5bb9\\u6613\", \"tfidf\": 0.06875155852544174}, {\"document\": \"week1_tokenized\", \"term\": \"\\u9999\\u6e2f\", \"tfidf\": 0.06836584235648942}, {\"document\": \"week1_tokenized\", \"term\": \"\\u5317\\u4eac\", \"tfidf\": 0.06783285020068822}, {\"document\": \"week1_tokenized\", \"term\": \"\\u7f8e\\u56fd\", \"tfidf\": 0.06791585087700319}, {\"document\": \"week1_tokenized\", \"term\": \"\\u6c38\\u8fdc\", \"tfidf\": 0.06713484371770473}, {\"document\": \"week1_tokenized\", \"term\": \"\\u8001\\u5e08\", \"tfidf\": 0.06673259888370775}, {\"document\": \"week1_tokenized\", \"term\": \"\\u9009\\u62e9\", \"tfidf\": 0.06520640541151546}, {\"document\": \"week1_tokenized\", \"term\": \"\\u8c22\\u8c22\", \"tfidf\": 0.06503900509221085}, {\"document\": \"week1_tokenized\", \"term\": \"\\u56de\\u5bb6\", \"tfidf\": 0.06478564883280359}, {\"document\": \"week1_tokenized\", \"term\": \"\\u771f\\u6b63\", \"tfidf\": 0.06485029743942447}, {\"document\": \"week1_tokenized\", \"term\": \"\\u516c\\u53f8\", \"tfidf\": 0.06463443684223975}, {\"document\": \"week1_tokenized\", \"term\": \"\\u751f\\u547d\", \"tfidf\": 0.06432420762274445}, {\"document\": \"week1_tokenized\", \"term\": \"\\u6ce8\\u610f\", \"tfidf\": 0.062272400286233605}, {\"document\": \"week1_tokenized\", \"term\": \"\\u4e8b\\u60c5\", \"tfidf\": 0.062044438119312664}, {\"document\": \"week1_tokenized\", \"term\": \"\\u6210\\u529f\", \"tfidf\": 0.06202108021020329}, {\"document\": \"week1_tokenized\", \"term\": \"\\u52a0\\u6cb9\", \"tfidf\": 0.0616384139842388}, {\"document\": \"week1_tokenized\", \"term\": \"\\u670d\\u52a1\", \"tfidf\": 0.061202024962795074}, {\"document\": \"week1_tokenized\", \"term\": \"\\u661f\\u5ea7\", \"tfidf\": 0.0606299355009028}, {\"document\": \"week1_tokenized\", \"term\": \"\\u73cd\\u60dc\", \"tfidf\": 0.06043143092214664}, {\"document\": \"week1_tokenized\", \"term\": \"\\u624b\\u673a\", \"tfidf\": 0.05946911312940107}, {\"document\": \"week1_tokenized\", \"term\": \"\\u5fc5\\u987b\", \"tfidf\": 0.05904861135727039}, {\"document\": \"week1_tokenized\", \"term\": \"\\u76f8\\u4fe1\", \"tfidf\": 0.05799738730875045}, {\"document\": \"week1_tokenized\", \"term\": \"\\u5371\\u673a\", \"tfidf\": 0.05769138165991534}, {\"document\": \"week2_tokenized\", \"term\": \"\\u559c\\u6b22\", \"tfidf\": 0.25683927034301507}, {\"document\": \"week2_tokenized\", \"term\": \"\\u5fae\\u535a\", \"tfidf\": 0.21065994678764197}, {\"document\": \"week2_tokenized\", \"term\": \"\\u77e5\\u9053\", \"tfidf\": 0.19772594481596487}, {\"document\": \"week2_tokenized\", \"term\": \"\\u751f\\u6d3b\", \"tfidf\": 0.1570549962525329}, {\"document\": \"week2_tokenized\", \"term\": \"\\u4e16\\u754c\", \"tfidf\": 0.1471368393765622}, {\"document\": \"week2_tokenized\", \"term\": \"\\u5b69\\u5b50\", \"tfidf\": 0.14275267843822148}, {\"document\": \"week2_tokenized\", \"term\": \"\\u670b\\u53cb\", \"tfidf\": 0.1420027700726491}, {\"document\": \"week2_tokenized\", \"term\": \"\\u5fc5\\u987b\", \"tfidf\": 0.1343772028106516}, {\"document\": \"week2_tokenized\", \"term\": \"\\u5173\\u6ce8\", \"tfidf\": 0.13090881463667423}, {\"document\": \"week2_tokenized\", \"term\": \"\\u63a8\\u8350\", \"tfidf\": 0.1296792997854201}, {\"document\": \"week2_tokenized\", \"term\": \"\\u5feb\\u4e50\", \"tfidf\": 0.12801427639951796}, {\"document\": \"week2_tokenized\", \"term\": \"\\u5de5\\u4f5c\", \"tfidf\": 0.10601949075414487}, {\"document\": \"week2_tokenized\", \"term\": \"\\u5e78\\u798f\", \"tfidf\": 0.10593365519805674}, {\"document\": \"week2_tokenized\", \"term\": \"\\u5f00\\u59cb\", \"tfidf\": 0.10503246465602199}, {\"document\": \"week2_tokenized\", \"term\": \"\\u611f\\u52a8\", \"tfidf\": 0.10444297182350472}, {\"document\": \"week2_tokenized\", \"term\": \"\\u8f49\\u767c\", \"tfidf\": 0.10433391070169928}, {\"document\": \"week2_tokenized\", \"term\": \"\\u652f\\u6301\", \"tfidf\": 0.10045853756091547}, {\"document\": \"week2_tokenized\", \"term\": \"\\u8f6c\\u53d1\", \"tfidf\": 0.09735489778612096}, {\"document\": \"week2_tokenized\", \"term\": \"\\u95ee\\u9898\", \"tfidf\": 0.09575878185157001}, {\"document\": \"week2_tokenized\", \"term\": \"\\u5988\\u5988\", \"tfidf\": 0.09497709449570128}, {\"document\": \"week2_tokenized\", \"term\": \"\\u6d3b\\u52a8\", \"tfidf\": 0.09340454303658466}, {\"document\": \"week2_tokenized\", \"term\": \"\\u6e38\\u620f\", \"tfidf\": 0.09187732981511662}, {\"document\": \"week2_tokenized\", \"term\": \"\\u56de\\u5bb6\", \"tfidf\": 0.08745414497765332}, {\"document\": \"week2_tokenized\", \"term\": \"\\u516c\\u53f8\", \"tfidf\": 0.08618799461868264}, {\"document\": \"week2_tokenized\", \"term\": \"\\u6d2a\\u8fb0\", \"tfidf\": 0.08189582765906331}, {\"document\": \"week2_tokenized\", \"term\": \"\\u5c3e\\u83c7\", \"tfidf\": 0.08183738062478291}, {\"document\": \"week2_tokenized\", \"term\": \"\\u5317\\u4eac\", \"tfidf\": 0.08172537114169906}, {\"document\": \"week2_tokenized\", \"term\": \"\\u5bb9\\u6613\", \"tfidf\": 0.0803746644633515}, {\"document\": \"week2_tokenized\", \"term\": \"\\u53d1\\u73b0\", \"tfidf\": 0.07954985029257662}, {\"document\": \"week2_tokenized\", \"term\": \"\\u98df\\u7269\", \"tfidf\": 0.07912013570932913}, {\"document\": \"week2_tokenized\", \"term\": \"\\u611f\\u60c5\", \"tfidf\": 0.0776840732767934}, {\"document\": \"week2_tokenized\", \"term\": \"\\u7231\\u60c5\", \"tfidf\": 0.07648447839741397}, {\"document\": \"week2_tokenized\", \"term\": \"\\u611f\\u8c22\", \"tfidf\": 0.0751690100295811}, {\"document\": \"week2_tokenized\", \"term\": \"\\u611f\\u89c9\", \"tfidf\": 0.0736177430422317}, {\"document\": \"week2_tokenized\", \"term\": \"\\u9999\\u6e2f\", \"tfidf\": 0.07226636247064214}, {\"document\": \"week2_tokenized\", \"term\": \"\\u52c7\\u6562\", \"tfidf\": 0.07218240662768234}, {\"document\": \"week2_tokenized\", \"term\": \"\\u751f\\u547d\", \"tfidf\": 0.07206555243131506}, {\"document\": \"week2_tokenized\", \"term\": \"\\u4e1c\\u897f\", \"tfidf\": 0.07110259463334863}, {\"document\": \"week2_tokenized\", \"term\": \"\\u6c38\\u8fdc\", \"tfidf\": 0.064934181635535}, {\"document\": \"week2_tokenized\", \"term\": \"\\u8001\\u5e08\", \"tfidf\": 0.06371448052431265}, {\"document\": \"week2_tokenized\", \"term\": \"\\u7f8e\\u56fd\", \"tfidf\": 0.06232373881354928}, {\"document\": \"week2_tokenized\", \"term\": \"\\u5065\\u5eb7\", \"tfidf\": 0.0620214621299816}, {\"document\": \"week2_tokenized\", \"term\": \"\\u9009\\u62e9\", \"tfidf\": 0.062000269118412325}, {\"document\": \"week2_tokenized\", \"term\": \"\\u5e73\\u7dda\", \"tfidf\": 0.06141000288530914}, {\"document\": \"week2_tokenized\", \"term\": \"\\u6ce8\\u610f\", \"tfidf\": 0.06125565170655424}, {\"document\": \"week2_tokenized\", \"term\": \"\\u56de\\u5fc6\", \"tfidf\": 0.059750154381747245}, {\"document\": \"week2_tokenized\", \"term\": \"\\u7ed3\\u5a5a\", \"tfidf\": 0.05904957713642475}, {\"document\": \"week2_tokenized\", \"term\": \"\\u7535\\u5f71\", \"tfidf\": 0.05868098053857574}, {\"document\": \"week2_tokenized\", \"term\": \"\\u97e9\\u56fd\", \"tfidf\": 0.05819375036730917}, {\"document\": \"week2_tokenized\", \"term\": \"\\u624b\\u673a\", \"tfidf\": 0.057730459707227975}, {\"document\": \"week3_tokenized\", \"term\": \"\\u559c\\u6b22\", \"tfidf\": 0.2522630768312055}, {\"document\": \"week3_tokenized\", \"term\": \"\\u77e5\\u9053\", \"tfidf\": 0.2147032581139715}, {\"document\": \"week3_tokenized\", \"term\": \"\\u5fae\\u535a\", \"tfidf\": 0.2139644665727248}, {\"document\": \"week3_tokenized\", \"term\": \"\\u5173\\u6ce8\", \"tfidf\": 0.1772701234793323}, {\"document\": \"week3_tokenized\", \"term\": \"\\u751f\\u6d3b\", \"tfidf\": 0.17386875108416844}, {\"document\": \"week3_tokenized\", \"term\": \"\\u5f00\\u59cb\", \"tfidf\": 0.1569815051071126}, {\"document\": \"week3_tokenized\", \"term\": \"\\u670b\\u53cb\", \"tfidf\": 0.15269954491127843}, {\"document\": \"week3_tokenized\", \"term\": \"\\u4e16\\u754c\", \"tfidf\": 0.1274148965206809}, {\"document\": \"week3_tokenized\", \"term\": \"\\u8f49\\u767c\", \"tfidf\": 0.12241541223409827}, {\"document\": \"week3_tokenized\", \"term\": \"\\u5e78\\u798f\", \"tfidf\": 0.12112771015678649}, {\"document\": \"week3_tokenized\", \"term\": \"\\u5b69\\u5b50\", \"tfidf\": 0.11867715479530569}, {\"document\": \"week3_tokenized\", \"term\": \"\\u5feb\\u4e50\", \"tfidf\": 0.11602988035622563}, {\"document\": \"week3_tokenized\", \"term\": \"\\u56de\\u5bb6\", \"tfidf\": 0.11210059718391176}, {\"document\": \"week3_tokenized\", \"term\": \"\\u95ee\\u9898\", \"tfidf\": 0.10518913538728855}, {\"document\": \"week3_tokenized\", \"term\": \"\\u8f6c\\u53d1\", \"tfidf\": 0.10429667418552206}, {\"document\": \"week3_tokenized\", \"term\": \"\\u652f\\u6301\", \"tfidf\": 0.1036230045886654}, {\"document\": \"week3_tokenized\", \"term\": \"\\u5de5\\u4f5c\", \"tfidf\": 0.09999468660676729}, {\"document\": \"week3_tokenized\", \"term\": \"\\u6625\\u8282\", \"tfidf\": 0.0978188347480656}, {\"document\": \"week3_tokenized\", \"term\": \"\\u516c\\u53f8\", \"tfidf\": 0.09543047833786197}, {\"document\": \"week3_tokenized\", \"term\": \"\\u53d1\\u73b0\", \"tfidf\": 0.09463428001572231}, {\"document\": \"week3_tokenized\", \"term\": \"\\u5317\\u4eac\", \"tfidf\": 0.08569825706931043}, {\"document\": \"week3_tokenized\", \"term\": \"\\u6d3b\\u52a8\", \"tfidf\": 0.08517387018501175}, {\"document\": \"week3_tokenized\", \"term\": \"\\u611f\\u89c9\", \"tfidf\": 0.08386541056535816}, {\"document\": \"week3_tokenized\", \"term\": \"\\u5fc3\\u60c5\", \"tfidf\": 0.07994855248813121}, {\"document\": \"week3_tokenized\", \"term\": \"\\u5bb9\\u6613\", \"tfidf\": 0.07673800337806005}, {\"document\": \"week3_tokenized\", \"term\": \"\\u4e1c\\u897f\", \"tfidf\": 0.07630073180380963}, {\"document\": \"week3_tokenized\", \"term\": \"\\u52aa\\u529b\", \"tfidf\": 0.07554639825796024}, {\"document\": \"week3_tokenized\", \"term\": \"\\u7231\\u60c5\", \"tfidf\": 0.07488289209725246}, {\"document\": \"week3_tokenized\", \"term\": \"\\u63a8\\u8350\", \"tfidf\": 0.07488407168207936}, {\"document\": \"week3_tokenized\", \"term\": \"\\u9999\\u6e2f\", \"tfidf\": 0.07450708593068033}, {\"document\": \"week3_tokenized\", \"term\": \"\\u7f8e\\u56fd\", \"tfidf\": 0.07425801177177772}, {\"document\": \"week3_tokenized\", \"term\": \"\\u624b\\u673a\", \"tfidf\": 0.07359266324304183}, {\"document\": \"week3_tokenized\", \"term\": \"\\u6c38\\u8fdc\", \"tfidf\": 0.07036533002749205}, {\"document\": \"week3_tokenized\", \"term\": \"\\u5065\\u5eb7\", \"tfidf\": 0.06801028628185433}, {\"document\": \"week3_tokenized\", \"term\": \"\\u964c\\u751f\", \"tfidf\": 0.06744624419676355}, {\"document\": \"week3_tokenized\", \"term\": \"\\u5988\\u5988\", \"tfidf\": 0.06619047982449731}, {\"document\": \"week3_tokenized\", \"term\": \"\\u6210\\u529f\", \"tfidf\": 0.06535392955301574}, {\"document\": \"week3_tokenized\", \"term\": \"\\u8001\\u5e08\", \"tfidf\": 0.06408981105956398}, {\"document\": \"week3_tokenized\", \"term\": \"\\u9009\\u62e9\", \"tfidf\": 0.06353225709645241}, {\"document\": \"week3_tokenized\", \"term\": \"\\u771f\\u6b63\", \"tfidf\": 0.062437525456249324}, {\"document\": \"week3_tokenized\", \"term\": \"\\u6c34\\u74f6\", \"tfidf\": 0.062206838585275086}, {\"document\": \"week3_tokenized\", \"term\": \"\\u6ce8\\u610f\", \"tfidf\": 0.06110139455992591}, {\"document\": \"week3_tokenized\", \"term\": \"\\u7535\\u5f71\", \"tfidf\": 0.06029456470073976}, {\"document\": \"week3_tokenized\", \"term\": \"\\u4e8b\\u60c5\", \"tfidf\": 0.06022350726098562}, {\"document\": \"week3_tokenized\", \"term\": \"\\u660e\\u5929\", \"tfidf\": 0.058642961018641485}, {\"document\": \"week3_tokenized\", \"term\": \"\\u8c22\\u8c22\", \"tfidf\": 0.05819546709623382}, {\"document\": \"week3_tokenized\", \"term\": \"\\u5fc5\\u987b\", \"tfidf\": 0.05574864834700126}, {\"document\": \"week3_tokenized\", \"term\": \"\\u8bbe\\u8ba1\", \"tfidf\": 0.05464599577570059}, {\"document\": \"week3_tokenized\", \"term\": \"\\u53f0\\u6e7e\", \"tfidf\": 0.054613507453616976}, {\"document\": \"week3_tokenized\", \"term\": \"\\u56fd\\u5bb6\", \"tfidf\": 0.05398561876646263}, {\"document\": \"week4_tokenized\", \"term\": \"\\u5feb\\u4e50\", \"tfidf\": 0.3265126906454258}, {\"document\": \"week4_tokenized\", \"term\": \"\\u559c\\u6b22\", \"tfidf\": 0.24530960217942369}, {\"document\": \"week4_tokenized\", \"term\": \"\\u4ee3\\u60a6\", \"tfidf\": 0.2148728387487993}, {\"document\": \"week4_tokenized\", \"term\": \"\\u8f6c\\u53d1\", \"tfidf\": 0.20808123085748498}, {\"document\": \"week4_tokenized\", \"term\": \"\\u8001\\u5e08\", \"tfidf\": 0.2001457318560877}, {\"document\": \"week4_tokenized\", \"term\": \"\\u6bdb\\u592b\", \"tfidf\": 0.1993716905265287}, {\"document\": \"week4_tokenized\", \"term\": \"\\u5723\\u4ee3\", \"tfidf\": 0.1495430228687449}, {\"document\": \"week4_tokenized\", \"term\": \"\\u6625\\u665a\", \"tfidf\": 0.14499716600095675}, {\"document\": \"week4_tokenized\", \"term\": \"\\u7761\\u89c9\", \"tfidf\": 0.14262069412480444}, {\"document\": \"week4_tokenized\", \"term\": \"\\u77e5\\u9053\", \"tfidf\": 0.14246051992592446}, {\"document\": \"week4_tokenized\", \"term\": \"\\u5e78\\u798f\", \"tfidf\": 0.13655073813167237}, {\"document\": \"week4_tokenized\", \"term\": \"\\u53f0\\u56fa\", \"tfidf\": 0.12773523005382598}, {\"document\": \"week4_tokenized\", \"term\": \"\\u521d\\u9910\", \"tfidf\": 0.1265920247811253}, {\"document\": \"week4_tokenized\", \"term\": \"\\u5fae\\u535a\", \"tfidf\": 0.12195043974004263}, {\"document\": \"week4_tokenized\", \"term\": \"\\u6b63\\u9762\", \"tfidf\": 0.12002228253262771}, {\"document\": \"week4_tokenized\", \"term\": \"\\u795d\\u798f\", \"tfidf\": 0.11018577702447849}, {\"document\": \"week4_tokenized\", \"term\": \"\\u76f8\\u4eb2\", \"tfidf\": 0.11004205959407258}, {\"document\": \"week4_tokenized\", \"term\": \"\\u53d1\\u73b0\", \"tfidf\": 0.10216333358319069}, {\"document\": \"week4_tokenized\", \"term\": \"\\u670b\\u53cb\", \"tfidf\": 0.10204368195015108}, {\"document\": \"week4_tokenized\", \"term\": \"\\u73a9\\u73a9\\u6027\", \"tfidf\": 0.10189717736106457}, {\"document\": \"week4_tokenized\", \"term\": \"\\u98de\\u543b\", \"tfidf\": 0.09691263331738403}, {\"document\": \"week4_tokenized\", \"term\": \"\\u56e2\\u961f\", \"tfidf\": 0.08813188200244602}, {\"document\": \"week4_tokenized\", \"term\": \"\\u5371\\u673a\", \"tfidf\": 0.08809809384186117}, {\"document\": \"week4_tokenized\", \"term\": \"\\u5065\\u5eb7\", \"tfidf\": 0.08773939630603766}, {\"document\": \"week4_tokenized\", \"term\": \"\\u535a\\u5473\", \"tfidf\": 0.08750719003491826}, {\"document\": \"week4_tokenized\", \"term\": \"\\u8c22\\u8c22\", \"tfidf\": 0.08611576540527924}, {\"document\": \"week4_tokenized\", \"term\": \"\\u516c\\u5173\", \"tfidf\": 0.08548101953221489}, {\"document\": \"week4_tokenized\", \"term\": \"\\u8ba4\\u9519\", \"tfidf\": 0.08331855663826082}, {\"document\": \"week4_tokenized\", \"term\": \"\\u514d\\u8d39\", \"tfidf\": 0.08282373047321344}, {\"document\": \"week4_tokenized\", \"term\": \"\\u611f\\u89c9\", \"tfidf\": 0.07896512832588377}, {\"document\": \"week4_tokenized\", \"term\": \"\\u6625\\u8282\", \"tfidf\": 0.07785031836726845}, {\"document\": \"week4_tokenized\", \"term\": \"\\u751f\\u6d3b\", \"tfidf\": 0.0769198433563923}, {\"document\": \"week4_tokenized\", \"term\": \"\\u7535\\u5f71\", \"tfidf\": 0.07605181057885681}, {\"document\": \"week4_tokenized\", \"term\": \"\\u8282\\u76ee\", \"tfidf\": 0.0731704243393573}, {\"document\": \"week4_tokenized\", \"term\": \"\\u521d\\u610f\", \"tfidf\": 0.07189948218936904}, {\"document\": \"week4_tokenized\", \"term\": \"\\u8655\\u7121\", \"tfidf\": 0.07187656447544202}, {\"document\": \"week4_tokenized\", \"term\": \"\\u8f9b\\u82e6\", \"tfidf\": 0.07140608561584069}, {\"document\": \"week4_tokenized\", \"term\": \"\\u4fdd\\u62a4\\u82cd\", \"tfidf\": 0.06923667906772232}, {\"document\": \"week4_tokenized\", \"term\": \"\\u7ed3\\u679c\", \"tfidf\": 0.06878553744584368}, {\"document\": \"week4_tokenized\", \"term\": \"\\u5434\\u5947\\u9686\", \"tfidf\": 0.06728053447710644}, {\"document\": \"week4_tokenized\", \"term\": \"\\u660e\\u767d\", \"tfidf\": 0.06675766142940327}, {\"document\": \"week4_tokenized\", \"term\": \"\\u8f49\\u767c\", \"tfidf\": 0.06443280387428583}, {\"document\": \"week4_tokenized\", \"term\": \"\\u5764\\u54e5\", \"tfidf\": 0.06411008897059683}, {\"document\": \"week4_tokenized\", \"term\": \"\\u613f\\u610f\", \"tfidf\": 0.06353004870799256}, {\"document\": \"week4_tokenized\", \"term\": \"\\u7136\\u7a69\", \"tfidf\": 0.062374755899517915}, {\"document\": \"week4_tokenized\", \"term\": \"\\u83f2\\u59d0\", \"tfidf\": 0.06132149732298618}, {\"document\": \"week4_tokenized\", \"term\": \"\\u5f00\\u59cb\", \"tfidf\": 0.060651865853376626}, {\"document\": \"week4_tokenized\", \"term\": \"\\u690d\\u5165\", \"tfidf\": 0.060287450343173}, {\"document\": \"week4_tokenized\", \"term\": \"\\u5173\\u6ce8\", \"tfidf\": 0.059058397368547365}, {\"document\": \"week4_tokenized\", \"term\": \"\\u6563\\u5b88\", \"tfidf\": 0.05899786621208827}, {\"document\": \"week5_tokenized\", \"term\": \"\\u559c\\u6b22\", \"tfidf\": 0.23548375483979328}, {\"document\": \"week5_tokenized\", \"term\": \"\\u5fae\\u535a\", \"tfidf\": 0.22339022039909834}, {\"document\": \"week5_tokenized\", \"term\": \"\\u77e5\\u9053\", \"tfidf\": 0.20988769143317423}, {\"document\": \"week5_tokenized\", \"term\": \"\\u751f\\u6d3b\", \"tfidf\": 0.2000797255249352}, {\"document\": \"week5_tokenized\", \"term\": \"\\u76f8\\u4fe1\", \"tfidf\": 0.16921107395245907}, {\"document\": \"week5_tokenized\", \"term\": \"\\u5173\\u6ce8\", \"tfidf\": 0.15695506267141404}, {\"document\": \"week5_tokenized\", \"term\": \"\\u4e16\\u754c\", \"tfidf\": 0.15546039526710648}, {\"document\": \"week5_tokenized\", \"term\": \"\\u670b\\u53cb\", \"tfidf\": 0.15398258008892277}, {\"document\": \"week5_tokenized\", \"term\": \"\\u8f49\\u767c\", \"tfidf\": 0.1299882999368506}, {\"document\": \"week5_tokenized\", \"term\": \"\\u9999\\u6e2f\", \"tfidf\": 0.12759998115558058}, {\"document\": \"week5_tokenized\", \"term\": \"\\u5b69\\u5b50\", \"tfidf\": 0.1254651054138598}, {\"document\": \"week5_tokenized\", \"term\": \"\\u95ee\\u9898\", \"tfidf\": 0.11627150413291615}, {\"document\": \"week5_tokenized\", \"term\": \"\\u5f00\\u59cb\", \"tfidf\": 0.1137602169497433}, {\"document\": \"week5_tokenized\", \"term\": \"\\u5de5\\u4f5c\", \"tfidf\": 0.1099857616570891}, {\"document\": \"week5_tokenized\", \"term\": \"\\u53d1\\u73b0\", \"tfidf\": 0.10948713220882073}, {\"document\": \"week5_tokenized\", \"term\": \"\\u4e1c\\u897f\", \"tfidf\": 0.10758287247810713}, {\"document\": \"week5_tokenized\", \"term\": \"\\u5e78\\u798f\", \"tfidf\": 0.10385461434128235}, {\"document\": \"week5_tokenized\", \"term\": \"\\u611f\\u89c9\", \"tfidf\": 0.10027314433865439}, {\"document\": \"week5_tokenized\", \"term\": \"\\u516c\\u53f8\", \"tfidf\": 0.09668858907467578}, {\"document\": \"week5_tokenized\", \"term\": \"\\u652f\\u6301\", \"tfidf\": 0.08443453172712254}, {\"document\": \"week5_tokenized\", \"term\": \"\\u63a8\\u8350\", \"tfidf\": 0.08140209941754413}, {\"document\": \"week5_tokenized\", \"term\": \"\\u7231\\u60c5\", \"tfidf\": 0.08131433053038813}, {\"document\": \"week5_tokenized\", \"term\": \"\\u5317\\u4eac\", \"tfidf\": 0.08074294245688375}, {\"document\": \"week5_tokenized\", \"term\": \"\\u77e5\\u5173\\u5316\", \"tfidf\": 0.07939024713171776}, {\"document\": \"week5_tokenized\", \"term\": \"\\u8f6c\\u53d1\", \"tfidf\": 0.07850509068179154}, {\"document\": \"week5_tokenized\", \"term\": \"\\u6625\\u8282\", \"tfidf\": 0.07843628071014501}, {\"document\": \"week5_tokenized\", \"term\": \"\\u7f8e\\u56fd\", \"tfidf\": 0.07794782525478468}, {\"document\": \"week5_tokenized\", \"term\": \"\\u5973\\u5b69\", \"tfidf\": 0.07653500106464534}, {\"document\": \"week5_tokenized\", \"term\": \"\\u5feb\\u4e50\", \"tfidf\": 0.07543410781920251}, {\"document\": \"week5_tokenized\", \"term\": \"\\u624b\\u673a\", \"tfidf\": 0.06976997796562137}, {\"document\": \"week5_tokenized\", \"term\": \"\\u8001\\u5e08\", \"tfidf\": 0.06957367972820454}, {\"document\": \"week5_tokenized\", \"term\": \"\\u653f\\u5e9c\", \"tfidf\": 0.06943317525438311}, {\"document\": \"week5_tokenized\", \"term\": \"\\u6d3b\\u52a8\", \"tfidf\": 0.06585062653045311}, {\"document\": \"week5_tokenized\", \"term\": \"\\u6c34\\u74f6\", \"tfidf\": 0.06551599737055676}, {\"document\": \"week5_tokenized\", \"term\": \"\\u4e8b\\u60c5\", \"tfidf\": 0.06487519923536614}, {\"document\": \"week5_tokenized\", \"term\": \"\\u7535\\u5f71\", \"tfidf\": 0.06260255197041875}, {\"document\": \"week5_tokenized\", \"term\": \"\\u5e02\\u573a\", \"tfidf\": 0.0625231970285822}, {\"document\": \"week5_tokenized\", \"term\": \"\\u751f\\u547d\", \"tfidf\": 0.06215704687841649}, {\"document\": \"week5_tokenized\", \"term\": \"\\u56fd\\u5bb6\", \"tfidf\": 0.059618837100212124}, {\"document\": \"week5_tokenized\", \"term\": \"\\u5bb9\\u6613\", \"tfidf\": 0.059549252242654435}, {\"document\": \"week5_tokenized\", \"term\": \"\\u660e\\u5929\", \"tfidf\": 0.05916664202454349}, {\"document\": \"week5_tokenized\", \"term\": \"\\u5065\\u5eb7\", \"tfidf\": 0.05878672241062166}, {\"document\": \"week5_tokenized\", \"term\": \"\\u7535\\u8bdd\", \"tfidf\": 0.058411209336577584}, {\"document\": \"week5_tokenized\", \"term\": \"\\u6210\\u529f\", \"tfidf\": 0.05794804603547897}, {\"document\": \"week5_tokenized\", \"term\": \"\\u65b0\\u95fb\", \"tfidf\": 0.05761821898208198}, {\"document\": \"week5_tokenized\", \"term\": \"\\u9009\\u62e9\", \"tfidf\": 0.057494123418427044}, {\"document\": \"week5_tokenized\", \"term\": \"\\u53d1\\u751f\", \"tfidf\": 0.057461427953306034}, {\"document\": \"week5_tokenized\", \"term\": \"\\u6c38\\u8fdc\", \"tfidf\": 0.057225291739638064}, {\"document\": \"week5_tokenized\", \"term\": \"\\u5fc5\\u987b\", \"tfidf\": 0.0555247161651727}, {\"document\": \"week5_tokenized\", \"term\": \"\\u8868\\u793a\", \"tfidf\": 0.0547709836700966}, {\"document\": \"week6_tokenized\", \"term\": \"\\u559c\\u6b22\", \"tfidf\": 0.2405406410633296}, {\"document\": \"week6_tokenized\", \"term\": \"\\u5feb\\u4e50\", \"tfidf\": 0.19694750595467392}, {\"document\": \"week6_tokenized\", \"term\": \"\\u77e5\\u9053\", \"tfidf\": 0.18293846688487295}, {\"document\": \"week6_tokenized\", \"term\": \"\\u5fae\\u535a\", \"tfidf\": 0.18230686090239745}, {\"document\": \"week6_tokenized\", \"term\": \"\\u5e78\\u798f\", \"tfidf\": 0.17180851159056426}, {\"document\": \"week6_tokenized\", \"term\": \"\\u4e16\\u754c\", \"tfidf\": 0.16301752764897642}, {\"document\": \"week6_tokenized\", \"term\": \"\\u5173\\u6ce8\", \"tfidf\": 0.1629626407893863}, {\"document\": \"week6_tokenized\", \"term\": \"\\u751f\\u6d3b\", \"tfidf\": 0.15245937614514501}, {\"document\": \"week6_tokenized\", \"term\": \"\\u670b\\u53cb\", \"tfidf\": 0.14516762331254363}, {\"document\": \"week6_tokenized\", \"term\": \"\\u60c5\\u8282\", \"tfidf\": 0.12274746564165852}, {\"document\": \"week6_tokenized\", \"term\": \"\\u5b69\\u5b50\", \"tfidf\": 0.12117467994215728}, {\"document\": \"week6_tokenized\", \"term\": \"\\u5de5\\u4f5c\", \"tfidf\": 0.10575568330851093}, {\"document\": \"week6_tokenized\", \"term\": \"\\u5f00\\u59cb\", \"tfidf\": 0.10216978064996252}, {\"document\": \"week6_tokenized\", \"term\": \"\\u95ee\\u9898\", \"tfidf\": 0.09769956511903387}, {\"document\": \"week6_tokenized\", \"term\": \"\\u5143\\u5bb5\", \"tfidf\": 0.09724471980928867}, {\"document\": \"week6_tokenized\", \"term\": \"\\u7ed3\\u5a5a\", \"tfidf\": 0.09526039123259004}, {\"document\": \"week6_tokenized\", \"term\": \"\\u7f8e\\u56fd\", \"tfidf\": 0.09182013813425298}, {\"document\": \"week6_tokenized\", \"term\": \"\\u516c\\u53f8\", \"tfidf\": 0.08935299578395886}, {\"document\": \"week6_tokenized\", \"term\": \"\\u8f49\\u767c\", \"tfidf\": 0.08802164177721136}, {\"document\": \"week6_tokenized\", \"term\": \"\\u53d1\\u73b0\", \"tfidf\": 0.08788191305790824}, {\"document\": \"week6_tokenized\", \"term\": \"\\u7231\\u60c5\", \"tfidf\": 0.08579804585842411}, {\"document\": \"week6_tokenized\", \"term\": \"\\u6d3b\\u52a8\", \"tfidf\": 0.08306156379635862}, {\"document\": \"week6_tokenized\", \"term\": \"\\u7238\\u7238\", \"tfidf\": 0.08172460720887896}, {\"document\": \"week6_tokenized\", \"term\": \"\\u9999\\u6e2f\", \"tfidf\": 0.07958998855692563}, {\"document\": \"week6_tokenized\", \"term\": \"\\u5317\\u4eac\", \"tfidf\": 0.0782924683147302}, {\"document\": \"week6_tokenized\", \"term\": \"\\u652f\\u6301\", \"tfidf\": 0.07760785933320925}, {\"document\": \"week6_tokenized\", \"term\": \"\\u5143\\u5bb5\\u8282\", \"tfidf\": 0.076135762761709}, {\"document\": \"week6_tokenized\", \"term\": \"\\u63a8\\u8350\", \"tfidf\": 0.07487906451417858}, {\"document\": \"week6_tokenized\", \"term\": \"\\u5b89\\u5168\", \"tfidf\": 0.07380979737981593}, {\"document\": \"week6_tokenized\", \"term\": \"\\u624b\\u673a\", \"tfidf\": 0.0718016633893068}, {\"document\": \"week6_tokenized\", \"term\": \"\\u611f\\u89c9\", \"tfidf\": 0.07151295929710699}, {\"document\": \"week6_tokenized\", \"term\": \"\\u5bb9\\u6613\", \"tfidf\": 0.06811459198006359}, {\"document\": \"week6_tokenized\", \"term\": \"\\u5fc3\\u8e66\", \"tfidf\": 0.06742473234317582}, {\"document\": \"week6_tokenized\", \"term\": \"\\u8f6c\\u53d1\", \"tfidf\": 0.06698160681832961}, {\"document\": \"week6_tokenized\", \"term\": \"\\u4e1c\\u897f\", \"tfidf\": 0.06634726661547669}, {\"document\": \"week6_tokenized\", \"term\": \"\\u6c34\\u74f6\", \"tfidf\": 0.060933952679687584}, {\"document\": \"week6_tokenized\", \"term\": \"\\u5bb5\\u8282\", \"tfidf\": 0.06038482325384825}, {\"document\": \"week6_tokenized\", \"term\": \"\\u9009\\u62e9\", \"tfidf\": 0.06011776508386685}, {\"document\": \"week6_tokenized\", \"term\": \"\\u5065\\u5eb7\", \"tfidf\": 0.06008955806936154}, {\"document\": \"week6_tokenized\", \"term\": \"\\u6c38\\u8fdc\", \"tfidf\": 0.059573463140412494}, {\"document\": \"week6_tokenized\", \"term\": \"\\u5f3a\\u608d\", \"tfidf\": 0.05908923840816248}, {\"document\": \"week6_tokenized\", \"term\": \"\\u76f8\\u4fe1\", \"tfidf\": 0.05883532073036563}, {\"document\": \"week6_tokenized\", \"term\": \"\\u9801\\u5bb6\", \"tfidf\": 0.058284078158231355}, {\"document\": \"week6_tokenized\", \"term\": \"\\u6ce8\\u610f\", \"tfidf\": 0.058256596654566575}, {\"document\": \"week6_tokenized\", \"term\": \"\\u82f9\\u679c\", \"tfidf\": 0.055496969826472994}, {\"document\": \"week6_tokenized\", \"term\": \"\\u611f\\u52a8\", \"tfidf\": 0.05494242917077077}, {\"document\": \"week6_tokenized\", \"term\": \"\\u5fc5\\u987b\", \"tfidf\": 0.05474253271732158}, {\"document\": \"week6_tokenized\", \"term\": \"\\u5e02\\u573a\", \"tfidf\": 0.05436916690472725}, {\"document\": \"week6_tokenized\", \"term\": \"\\u6a39\\u888b\", \"tfidf\": 0.05421072701291816}, {\"document\": \"week6_tokenized\", \"term\": \"\\u8868\\u793a\", \"tfidf\": 0.05414709353478245}, {\"document\": \"week7_tokenized\", \"term\": \"\\u60c5\\u8282\", \"tfidf\": 0.4526157404239388}, {\"document\": \"week7_tokenized\", \"term\": \"\\u559c\\u6b22\", \"tfidf\": 0.2728465223153477}, {\"document\": \"week7_tokenized\", \"term\": \"\\u5feb\\u4e50\", \"tfidf\": 0.16880677998824664}, {\"document\": \"week7_tokenized\", \"term\": \"\\u77e5\\u9053\", \"tfidf\": 0.16764555028817948}, {\"document\": \"week7_tokenized\", \"term\": \"\\u5fae\\u535a\", \"tfidf\": 0.15086376455704473}, {\"document\": \"week7_tokenized\", \"term\": \"\\u670b\\u53cb\", \"tfidf\": 0.14663011140726084}, {\"document\": \"week7_tokenized\", \"term\": \"\\u5173\\u6ce8\", \"tfidf\": 0.14138684128775855}, {\"document\": \"week7_tokenized\", \"term\": \"\\u7231\\u60c5\", \"tfidf\": 0.1333696295602505}, {\"document\": \"week7_tokenized\", \"term\": \"\\u751f\\u6d3b\", \"tfidf\": 0.12286792737176831}, {\"document\": \"week7_tokenized\", \"term\": \"\\u4e16\\u754c\", \"tfidf\": 0.12145499761289083}, {\"document\": \"week7_tokenized\", \"term\": \"\\u5e78\\u798f\", \"tfidf\": 0.11959642946053281}, {\"document\": \"week7_tokenized\", \"term\": \"\\u5f00\\u59cb\", \"tfidf\": 0.09909049967115144}, {\"document\": \"week7_tokenized\", \"term\": \"\\u5b9e\\u540d\\u820d\", \"tfidf\": 0.09895187282420081}, {\"document\": \"week7_tokenized\", \"term\": \"\\u7f8e\\u56fd\", \"tfidf\": 0.09659096290133484}, {\"document\": \"week7_tokenized\", \"term\": \"\\u5b69\\u5b50\", \"tfidf\": 0.09376050477042301}, {\"document\": \"week7_tokenized\", \"term\": \"\\u6d3b\\u52a8\", \"tfidf\": 0.09040276017383618}, {\"document\": \"week7_tokenized\", \"term\": \"\\u624b\\u673a\", \"tfidf\": 0.09030281781370648}, {\"document\": \"week7_tokenized\", \"term\": \"\\u8f49\\u767c\", \"tfidf\": 0.08472030381492766}, {\"document\": \"week7_tokenized\", \"term\": \"\\u63a8\\u8350\", \"tfidf\": 0.08283057298808243}, {\"document\": \"week7_tokenized\", \"term\": \"\\u5de5\\u4f5c\", \"tfidf\": 0.0807910660377229}, {\"document\": \"week7_tokenized\", \"term\": \"\\u516c\\u53f8\", \"tfidf\": 0.07874403439502653}, {\"document\": \"week7_tokenized\", \"term\": \"\\u660e\\u5929\", \"tfidf\": 0.07790198844918374}, {\"document\": \"week7_tokenized\", \"term\": \"\\u95ee\\u9898\", \"tfidf\": 0.07738478397699958}, {\"document\": \"week7_tokenized\", \"term\": \"\\u5168\\u90e8\", \"tfidf\": 0.07476402874720436}, {\"document\": \"week7_tokenized\", \"term\": \"\\u6210\\u529f\", \"tfidf\": 0.07393463173833142}, {\"document\": \"week7_tokenized\", \"term\": \"\\u53d1\\u73b0\", \"tfidf\": 0.07228427225952545}, {\"document\": \"week7_tokenized\", \"term\": \"\\u8f6c\\u53d1\", \"tfidf\": 0.06993614851312793}, {\"document\": \"week7_tokenized\", \"term\": \"\\u611f\\u89c9\", \"tfidf\": 0.06769147822986096}, {\"document\": \"week7_tokenized\", \"term\": \"\\u652f\\u6301\", \"tfidf\": 0.06416277100815293}, {\"document\": \"week7_tokenized\", \"term\": \"\\u5287\\u9f3b\", \"tfidf\": 0.06361362364406456}, {\"document\": \"week7_tokenized\", \"term\": \"\\u5f35\\u5e1d\", \"tfidf\": 0.06356438249197248}, {\"document\": \"week7_tokenized\", \"term\": \"\\u54ed\\u771f\\u611b\", \"tfidf\": 0.063540684057739}, {\"document\": \"week7_tokenized\", \"term\": \"\\u5317\\u4eac\", \"tfidf\": 0.0634658182025723}, {\"document\": \"week7_tokenized\", \"term\": \"\\u4e1c\\u897f\", \"tfidf\": 0.06125004036134091}, {\"document\": \"week7_tokenized\", \"term\": \"\\u6d6a\\u6f2b\", \"tfidf\": 0.06108781826258155}, {\"document\": \"week7_tokenized\", \"term\": \"\\u7535\\u5f71\", \"tfidf\": 0.05618719428078324}, {\"document\": \"week7_tokenized\", \"term\": \"\\u6c38\\u8fdc\", \"tfidf\": 0.056171817455962704}, {\"document\": \"week7_tokenized\", \"term\": \"\\u793c\\u7269\", \"tfidf\": 0.055497551626123715}, {\"document\": \"week7_tokenized\", \"term\": \"\\u611f\\u8c22\", \"tfidf\": 0.05406866032863343}, {\"document\": \"week7_tokenized\", \"term\": \"\\u6c34\\u74f6\", \"tfidf\": 0.05406037940842346}, {\"document\": \"week7_tokenized\", \"term\": \"\\u5bb9\\u6613\", \"tfidf\": 0.05170767869376239}, {\"document\": \"week7_tokenized\", \"term\": \"\\u661f\\u5ea7\", \"tfidf\": 0.05119395357357222}, {\"document\": \"week7_tokenized\", \"term\": \"\\u73cd\\u60dc\", \"tfidf\": 0.051177576956347934}, {\"document\": \"week7_tokenized\", \"term\": \"\\u9009\\u62e9\", \"tfidf\": 0.05105289346226796}, {\"document\": \"week7_tokenized\", \"term\": \"\\u9999\\u6e2f\", \"tfidf\": 0.05084153744915405}, {\"document\": \"week7_tokenized\", \"term\": \"\\u8c22\\u8c22\", \"tfidf\": 0.050798882374402124}, {\"document\": \"week7_tokenized\", \"term\": \"\\u5fc5\\u987b\", \"tfidf\": 0.0499219036203778}, {\"document\": \"week7_tokenized\", \"term\": \"\\u82f9\\u679c\", \"tfidf\": 0.04940596082622129}, {\"document\": \"week7_tokenized\", \"term\": \"\\u5065\\u5eb7\", \"tfidf\": 0.04929038546145065}, {\"document\": \"week7_tokenized\", \"term\": \"\\u7ed3\\u679c\", \"tfidf\": 0.04831008706358591}, {\"document\": \"week8_tokenized\", \"term\": \"\\u559c\\u6b22\", \"tfidf\": 0.2865291809797576}, {\"document\": \"week8_tokenized\", \"term\": \"\\u77e5\\u9053\", \"tfidf\": 0.20060617326453023}, {\"document\": \"week8_tokenized\", \"term\": \"\\u670b\\u53cb\", \"tfidf\": 0.19415052261026194}, {\"document\": \"week8_tokenized\", \"term\": \"\\u5b69\\u5b50\", \"tfidf\": 0.19239784967656864}, {\"document\": \"week8_tokenized\", \"term\": \"\\u795e\\u5947\", \"tfidf\": 0.17496864927312486}, {\"document\": \"week8_tokenized\", \"term\": \"\\u5fae\\u535a\", \"tfidf\": 0.16562135977711342}, {\"document\": \"week8_tokenized\", \"term\": \"\\u5173\\u6ce8\", \"tfidf\": 0.15205937134061243}, {\"document\": \"week8_tokenized\", \"term\": \"\\u751f\\u6d3b\", \"tfidf\": 0.14276466044981298}, {\"document\": \"week8_tokenized\", \"term\": \"\\u4e16\\u754c\", \"tfidf\": 0.13463558592601416}, {\"document\": \"week8_tokenized\", \"term\": \"\\u56fd\\u5bb6\", \"tfidf\": 0.12297995632924935}, {\"document\": \"week8_tokenized\", \"term\": \"\\u95ee\\u9898\", \"tfidf\": 0.11138662994018142}, {\"document\": \"week8_tokenized\", \"term\": \"\\u85e4\\u6da6\\u5f0f\", \"tfidf\": 0.11113221391254317}, {\"document\": \"week8_tokenized\", \"term\": \"\\u5f00\\u59cb\", \"tfidf\": 0.10144999457857362}, {\"document\": \"week8_tokenized\", \"term\": \"\\u5de5\\u4f5c\", \"tfidf\": 0.09762550944073661}, {\"document\": \"week8_tokenized\", \"term\": \"\\u751f\\u547d\", \"tfidf\": 0.09017953486296784}, {\"document\": \"week8_tokenized\", \"term\": \"\\u53d1\\u73b0\", \"tfidf\": 0.08956529958758565}, {\"document\": \"week8_tokenized\", \"term\": \"\\u652f\\u6301\", \"tfidf\": 0.08941857238942597}, {\"document\": \"week8_tokenized\", \"term\": \"\\u5e78\\u798f\", \"tfidf\": 0.08789376898245867}, {\"document\": \"week8_tokenized\", \"term\": \"\\u8f49\\u767c\", \"tfidf\": 0.08776246106569262}, {\"document\": \"week8_tokenized\", \"term\": \"\\u611f\\u89c9\", \"tfidf\": 0.08693056360619049}, {\"document\": \"week8_tokenized\", \"term\": \"\\u4e1c\\u897f\", \"tfidf\": 0.0865714379067791}, {\"document\": \"week8_tokenized\", \"term\": \"\\u51b3\\u5b9a\", \"tfidf\": 0.08331824834616662}, {\"document\": \"week8_tokenized\", \"term\": \"\\u8f6c\\u53d1\", \"tfidf\": 0.08300133319651166}, {\"document\": \"week8_tokenized\", \"term\": \"\\u6ce8\\u610f\", \"tfidf\": 0.08270766866029958}, {\"document\": \"week8_tokenized\", \"term\": \"\\u516c\\u53f8\", \"tfidf\": 0.080729517238948}, {\"document\": \"week8_tokenized\", \"term\": \"\\u6d3b\\u52a8\", \"tfidf\": 0.07689675350345353}, {\"document\": \"week8_tokenized\", \"term\": \"\\u8001\\u5e08\", \"tfidf\": 0.07644288651195513}, {\"document\": \"week8_tokenized\", \"term\": \"\\u7f8e\\u56fd\", \"tfidf\": 0.07385690924642523}, {\"document\": \"week8_tokenized\", \"term\": \"\\u5065\\u5eb7\", \"tfidf\": 0.0732402396553925}, {\"document\": \"week8_tokenized\", \"term\": \"\\u63a8\\u8350\", \"tfidf\": 0.07140679795950176}, {\"document\": \"week8_tokenized\", \"term\": \"\\u5fc5\\u987b\", \"tfidf\": 0.0712632210686703}, {\"document\": \"week8_tokenized\", \"term\": \"\\u56fd\\u5ea6\", \"tfidf\": 0.07042028881361477}, {\"document\": \"week8_tokenized\", \"term\": \"\\u5317\\u4eac\", \"tfidf\": 0.06774444436142374}, {\"document\": \"week8_tokenized\", \"term\": \"\\u7231\\u60c5\", \"tfidf\": 0.06759852800584891}, {\"document\": \"week8_tokenized\", \"term\": \"\\u65b9\\u5f0f\", \"tfidf\": 0.06730408107108345}, {\"document\": \"week8_tokenized\", \"term\": \"\\u53d1\\u751f\", \"tfidf\": 0.06616151010576599}, {\"document\": \"week8_tokenized\", \"term\": \"\\u6050\\u6016\", \"tfidf\": 0.06589411086763491}, {\"document\": \"week8_tokenized\", \"term\": \"\\u624b\\u673a\", \"tfidf\": 0.06513550970796818}, {\"document\": \"week8_tokenized\", \"term\": \"\\u9999\\u6e2f\", \"tfidf\": 0.06461354032490556}, {\"document\": \"week8_tokenized\", \"term\": \"\\u6210\\u529f\", \"tfidf\": 0.06413537506892027}, {\"document\": \"week8_tokenized\", \"term\": \"\\u6c38\\u8fdc\", \"tfidf\": 0.06309796203840769}, {\"document\": \"week8_tokenized\", \"term\": \"\\u4e8b\\u60c5\", \"tfidf\": 0.06188870119373675}, {\"document\": \"week8_tokenized\", \"term\": \"\\u8868\\u793a\", \"tfidf\": 0.06168241335800333}, {\"document\": \"week8_tokenized\", \"term\": \"\\u5feb\\u4e50\", \"tfidf\": 0.061065125602481986}, {\"document\": \"week8_tokenized\", \"term\": \"\\u5b89\\u5168\", \"tfidf\": 0.06005050636132659}, {\"document\": \"week8_tokenized\", \"term\": \"\\u610f\\u4e49\", \"tfidf\": 0.05764071786308198}, {\"document\": \"week8_tokenized\", \"term\": \"\\u9009\\u62e9\", \"tfidf\": 0.056688922136868825}, {\"document\": \"week8_tokenized\", \"term\": \"\\u5bb9\\u6613\", \"tfidf\": 0.056654707664591825}, {\"document\": \"week8_tokenized\", \"term\": \"\\u884c\\u8f66\", \"tfidf\": 0.054455188203217576}, {\"document\": \"week8_tokenized\", \"term\": \"\\u653f\\u5e9c\", \"tfidf\": 0.054225585194156496}]}}, {\"mode\": \"vega-lite\"});\n",
       "</script>"
      ],
      "text/plain": [
       "alt.LayerChart(...)"
      ]
     },
     "execution_count": 70,
     "metadata": {},
     "output_type": "execute_result"
    }
   ],
   "source": [
    "import altair as alt\n",
    "import numpy as np\n",
    "\n",
    "# Terms in this list will get a red dot in the visualization\n",
    "term_list = ['国家', '政府','美国','台湾','香港']\n",
    "\n",
    "# adding a little randomness to break ties in term ranking\n",
    "top_tfidf_plusRand = top_tfidf.copy()\n",
    "top_tfidf_plusRand['tfidf'] = top_tfidf_plusRand['tfidf'] + np.random.rand(top_tfidf.shape[0])*0.0001\n",
    "\n",
    "# base for all visualizations, with rank calculation\n",
    "base = alt.Chart(top_tfidf_plusRand).encode(\n",
    "    x = 'rank:O',\n",
    "    y = 'document:N'\n",
    ").transform_window(\n",
    "    rank = \"rank()\",\n",
    "    sort = [alt.SortField(\"tfidf\", order=\"descending\")],\n",
    "    groupby = [\"document\"],\n",
    ")\n",
    "\n",
    "# heatmap specification\n",
    "heatmap = base.mark_rect().encode(\n",
    "    color = 'tfidf:Q'\n",
    ")\n",
    "\n",
    "# red circle over terms in above list\n",
    "circle = base.mark_circle(size=100).encode(\n",
    "    color = alt.condition(\n",
    "        alt.FieldOneOfPredicate(field='term', oneOf=term_list),\n",
    "        alt.value('red'),\n",
    "        alt.value('#FFFFFF00')        \n",
    "    )\n",
    ")\n",
    "\n",
    "# text labels, white for darker heatmap colors\n",
    "text = base.mark_text(baseline='middle').encode(\n",
    "    text = 'term:N',\n",
    "    color = alt.condition(alt.datum.tfidf >= 0.23, alt.value('white'), alt.value('black'))\n",
    ")\n",
    "\n",
    "# display the three superimposed visualizations\n",
    "(heatmap + circle + text).properties(width = 2000)"
   ]
  },
  {
   "cell_type": "code",
   "execution_count": null,
   "metadata": {},
   "outputs": [],
   "source": []
  }
 ],
 "metadata": {
  "kernelspec": {
   "display_name": "Python 3 (ipykernel)",
   "language": "python",
   "name": "python3"
  },
  "language_info": {
   "codemirror_mode": {
    "name": "ipython",
    "version": 3
   },
   "file_extension": ".py",
   "mimetype": "text/x-python",
   "name": "python",
   "nbconvert_exporter": "python",
   "pygments_lexer": "ipython3",
   "version": "3.9.13"
  }
 },
 "nbformat": 4,
 "nbformat_minor": 4
}
